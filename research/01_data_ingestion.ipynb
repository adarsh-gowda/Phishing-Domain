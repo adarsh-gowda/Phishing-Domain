{
 "cells": [
  {
   "cell_type": "code",
   "execution_count": 1,
   "metadata": {},
   "outputs": [],
   "source": [
    "import os"
   ]
  },
  {
   "cell_type": "code",
   "execution_count": 2,
   "metadata": {},
   "outputs": [
    {
     "data": {
      "text/plain": [
       "'d:\\\\Data Science Projects\\\\Phishig_Domain\\\\Phishing-Domain\\\\research'"
      ]
     },
     "execution_count": 2,
     "metadata": {},
     "output_type": "execute_result"
    }
   ],
   "source": [
    "%pwd"
   ]
  },
  {
   "cell_type": "code",
   "execution_count": 3,
   "metadata": {},
   "outputs": [],
   "source": [
    "os.chdir(\"../\")"
   ]
  },
  {
   "cell_type": "code",
   "execution_count": 4,
   "metadata": {},
   "outputs": [
    {
     "data": {
      "text/plain": [
       "'d:\\\\Data Science Projects\\\\Phishig_Domain\\\\Phishing-Domain'"
      ]
     },
     "execution_count": 4,
     "metadata": {},
     "output_type": "execute_result"
    }
   ],
   "source": [
    "%pwd"
   ]
  },
  {
   "cell_type": "code",
   "execution_count": 5,
   "metadata": {},
   "outputs": [],
   "source": [
    "from dataclasses import dataclass\n",
    "from pathlib import Path\n",
    "\n",
    "\n",
    "@dataclass(frozen=True)\n",
    "class DataIngestionConfig:\n",
    "    root_dir: Path\n",
    "    source_URL: str\n",
    "    local_data_file: Path\n",
    "    unzip_dir: Path"
   ]
  },
  {
   "cell_type": "code",
   "execution_count": 6,
   "metadata": {},
   "outputs": [],
   "source": [
    "from cnnClassifier.constants import *\n",
    "from cnnClassifier.utils.common import read_yaml, create_directories"
   ]
  },
  {
   "cell_type": "code",
   "execution_count": 7,
   "metadata": {},
   "outputs": [],
   "source": [
    "class ConfigurationManager:\n",
    "    def __init__(\n",
    "        self,\n",
    "        config_filepath = CONFIG_FILE_PATH,\n",
    "        params_filepath = PARAMS_FILE_PATH,\n",
    "        schema_filepath = SCHEMA_FILE_PATH):\n",
    "\n",
    "        self.config = read_yaml(config_filepath)\n",
    "        self.params = read_yaml(params_filepath)\n",
    "        self.schema = read_yaml(schema_filepath)\n",
    "\n",
    "        create_directories([self.config.artifacts_root])\n",
    "\n",
    "\n",
    "    \n",
    "    def get_data_ingestion_config(self) -> DataIngestionConfig:\n",
    "        config = self.config.data_ingestion\n",
    "\n",
    "        create_directories([config.root_dir])\n",
    "\n",
    "        data_ingestion_config = DataIngestionConfig(\n",
    "            root_dir=config.root_dir,\n",
    "            source_URL=config.source_URL,\n",
    "            local_data_file=config.local_data_file,\n",
    "            unzip_dir=config.unzip_dir \n",
    "        )\n",
    "\n",
    "        return data_ingestion_config"
   ]
  },
  {
   "cell_type": "code",
   "execution_count": 8,
   "metadata": {},
   "outputs": [],
   "source": [
    "import os\n",
    "import urllib.request as request\n",
    "import zipfile\n",
    "from cnnClassifier import logger\n",
    "from cnnClassifier.utils.common import get_size\n",
    "import pandas as pd\n",
    "import shutil"
   ]
  },
  {
   "cell_type": "code",
   "execution_count": 9,
   "metadata": {},
   "outputs": [],
   "source": [
    "class DataIngestion:\n",
    "    def __init__(self, config: DataIngestionConfig):\n",
    "        self.config = config\n",
    "\n",
    "\n",
    "    \n",
    "    def download_file(self):\n",
    "        if not os.path.exists(self.config.local_data_file):\n",
    "            filename, headers = request.urlretrieve(\n",
    "                url = self.config.source_URL,\n",
    "                filename = self.config.local_data_file\n",
    "            )\n",
    "            logger.info(f\"{filename} download! with following info: \\n{headers}\")\n",
    "        else:\n",
    "            logger.info(f\"File already exists of size: {get_size(Path(self.config.local_data_file))}\")\n",
    "        \n",
    "            \n",
    "        # if not os.path.exists(self.config.local_data_file):\n",
    "        #     # If the file doesn't exist, log an error or handle it\n",
    "        #     logger.error(f\"File not found at {self.config.local_data_file}\")\n",
    "        # else:\n",
    "        #     # File exists, log and proceed with loading the CSV or other operations\n",
    "        #     logger.info(f\"File already exists at: {self.config.local_data_file}\")\n",
    "            \n",
    "        #     # Load the CSV as needed\n",
    "        #     df = pd.read_csv(self.config.source_URL)\n",
    "        #     logger.info(f\"Data loaded successfully from {self.config.local_data_file}\")\n",
    "\n",
    "\n",
    "\n",
    "           # Copy the downloaded file to the new path (unzip path)\n",
    "        self.save_to_unzip_path()\n",
    "\n",
    "    def save_to_unzip_path(self):\n",
    "        \"\"\"\n",
    "        Saves the downloaded file to the specified unzip path.\n",
    "        \"\"\"\n",
    "        # Ensure the unzip directory exists\n",
    "        unzip_path = self.config.unzip_dir\n",
    "        os.makedirs(unzip_path, exist_ok=True)\n",
    "        \n",
    "        # Define the destination path\n",
    "        destination_path = os.path.join(unzip_path, os.path.basename(self.config.local_data_file))\n",
    "        \n",
    "        # Copy the file if it doesn't already exist at the destination\n",
    "        if not os.path.exists(destination_path):\n",
    "            shutil.copy(self.config.local_data_file, destination_path)\n",
    "            logger.info(f\"File copied to {destination_path}\")\n",
    "        else:\n",
    "            logger.info(f\"File already exists at {destination_path}, skipping copy.\")"
   ]
  },
  {
   "cell_type": "code",
   "execution_count": 10,
   "metadata": {},
   "outputs": [
    {
     "name": "stdout",
     "output_type": "stream",
     "text": [
      "[2024-10-30 23:49:05,152: INFO: common: yaml file: config\\config.yaml loaded successfully]\n",
      "[2024-10-30 23:49:05,155: INFO: common: yaml file: params.yaml loaded successfully]\n",
      "[2024-10-30 23:49:05,155: INFO: common: yaml file: schema.yaml loaded successfully]\n",
      "[2024-10-30 23:49:05,155: INFO: common: created directory at: artifacts]\n",
      "[2024-10-30 23:49:05,155: INFO: common: created directory at: artifacts/data_ingestion]\n",
      "[2024-10-30 23:49:05,928: INFO: 3296042008: artifacts/data_ingestion/data.zip download! with following info: \n",
      "Date: Wed, 30 Oct 2024 18:19:07 GMT\n",
      "Content-Type: text/html; charset=utf-8\n",
      "Content-Length: 432375\n",
      "Connection: close\n",
      "Vary: Accept-Encoding\n",
      "Vary: Accept-Encoding\n",
      "Vary: Accept-Encoding\n",
      "Vary: Accept-Encoding\n",
      "Cache-Control: max-age=150\n",
      "ETag: \"698f7-N4B4o9RPah8r51cj0c5WsY0aKvg\"\n",
      "Vary: Origin, Accept-Encoding\n",
      "Strict-Transport-Security: max-age=31536000; includeSubDomains\n",
      "request-context: appId=cid-v1:\n",
      "x-commit: c7fa6ad62b4e4646e990a17eceeb11a119726ea8\n",
      "Content-Security-Policy: frame-ancestors 'none'\n",
      "X-Content-Type-Options: nosniff\n",
      "Cross-Origin-Opener-Policy: same-origin\n",
      "Cross-Origin-Embedder-Policy: require-corp\n",
      "x-azure-ref: 20241030T181907Z-1856db5cfdcggv44gtpaap6dv8000000023g00000001w18g\n",
      "x-fd-int-roxy-purgeid: 0\n",
      "X-Cache: TCP_REVALIDATED_HIT\n",
      "Accept-Ranges: bytes\n",
      "\n",
      "]\n",
      "[2024-10-30 23:49:05,928: INFO: 3296042008: File already exists at artifacts/data_ingestion\\data.zip, skipping copy.]\n",
      "[2024-10-30 23:49:05,928: INFO: 3296042008: File already exists at artifacts/data_ingestion\\data.zip, skipping copy.]\n"
     ]
    }
   ],
   "source": [
    "try:\n",
    "    config = ConfigurationManager()\n",
    "    data_ingestion_config = config.get_data_ingestion_config()\n",
    "    data_ingestion = DataIngestion(config=data_ingestion_config)\n",
    "    data_ingestion.download_file()\n",
    "    data_ingestion.save_to_unzip_path()\n",
    "except Exception as e:\n",
    "    raise e"
   ]
  }
 ],
 "metadata": {
  "kernelspec": {
   "display_name": "phenv",
   "language": "python",
   "name": "python3"
  },
  "language_info": {
   "codemirror_mode": {
    "name": "ipython",
    "version": 3
   },
   "file_extension": ".py",
   "mimetype": "text/x-python",
   "name": "python",
   "nbconvert_exporter": "python",
   "pygments_lexer": "ipython3",
   "version": "3.12.5"
  }
 },
 "nbformat": 4,
 "nbformat_minor": 2
}
